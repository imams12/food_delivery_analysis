{
  "nbformat": 4,
  "nbformat_minor": 0,
  "metadata": {
    "colab": {
      "name": "food_delivery_analysis.ipynb",
      "provenance": [],
      "collapsed_sections": [],
      "toc_visible": true,
      "authorship_tag": "ABX9TyOG8Fdg1jjmR1nL5b0p7uf0"
    },
    "kernelspec": {
      "name": "python3",
      "display_name": "Python 3"
    },
    "language_info": {
      "name": "python"
    }
  },
  "cells": [
    {
      "cell_type": "markdown",
      "metadata": {
        "id": "usHR4Q5QAYO_"
      },
      "source": [
        "# **Problem and Algortithm**\n",
        "Terdapat food delivery dataset yang digunakan untuk mengukur perbandingan antara jumlah order dengan jumlah biaya order makanan per customer, maka algoritma untuk menentukannya yaitu:\n",
        "\n",
        "\n",
        "*   Import dataset\n",
        "*   Tambahkan kolom total_fee pada dataset\n",
        "*   Cleaning dataset dengan status completed\n",
        "*   Tambahkan kolom total_order\n",
        "*   Urutkan kolom total_fee dari yang terkecil\n",
        "*   Visualisasi data\n",
        "\n",
        "\n",
        "\n",
        "\n",
        "\n",
        "\n",
        "\n",
        "\n"
      ]
    },
    {
      "cell_type": "markdown",
      "metadata": {
        "id": "f6n8JqskEITX"
      },
      "source": [
        "## 1. Connect GDrive"
      ]
    },
    {
      "cell_type": "code",
      "metadata": {
        "colab": {
          "base_uri": "https://localhost:8080/"
        },
        "id": "nb5Wp76TTuD8",
        "outputId": "cf29984e-45c5-4454-8cde-730f4ab89a61"
      },
      "source": [
        "from google.colab import drive\n",
        "drive.mount('/content/gdrive')"
      ],
      "execution_count": null,
      "outputs": [
        {
          "output_type": "stream",
          "name": "stdout",
          "text": [
            "Mounted at /content/gdrive\n"
          ]
        }
      ]
    },
    {
      "cell_type": "markdown",
      "metadata": {
        "id": "Ex2vAptuEXls"
      },
      "source": [
        "## 2. Import Library"
      ]
    },
    {
      "cell_type": "code",
      "metadata": {
        "id": "eD333A4vFP3V"
      },
      "source": [
        "import pandas as pd\n",
        "import numpy as np\n",
        "import matplotlib.pyplot as plt\n",
        "import os"
      ],
      "execution_count": null,
      "outputs": []
    },
    {
      "cell_type": "markdown",
      "metadata": {
        "id": "leAY-rpQEhQN"
      },
      "source": [
        "## 3. Import Data"
      ]
    },
    {
      "cell_type": "code",
      "metadata": {
        "id": "V8p1kE_1FP0C"
      },
      "source": [
        "path = 'gdrive/MyDrive/DATA/Food Delivery/'"
      ],
      "execution_count": null,
      "outputs": []
    },
    {
      "cell_type": "code",
      "metadata": {
        "colab": {
          "base_uri": "https://localhost:8080/"
        },
        "id": "wMlhuiaGGaRC",
        "outputId": "df641895-ec85-46e5-df3b-a43c0343529d"
      },
      "source": [
        "os.listdir(path)"
      ],
      "execution_count": null,
      "outputs": [
        {
          "output_type": "execute_result",
          "data": {
            "text/plain": [
              "['food_delivery_datasets.csv']"
            ]
          },
          "metadata": {},
          "execution_count": 93
        }
      ]
    },
    {
      "cell_type": "code",
      "metadata": {
        "id": "97xJoMRcFPqD"
      },
      "source": [
        "df = pd.read_csv(path + 'food_delivery_datasets.csv')"
      ],
      "execution_count": null,
      "outputs": []
    },
    {
      "cell_type": "code",
      "metadata": {
        "colab": {
          "base_uri": "https://localhost:8080/",
          "height": 309
        },
        "id": "lB7nNltnF8RC",
        "outputId": "c26ec66b-b6b5-4204-d3f5-32ac9b9741cc"
      },
      "source": [
        "df.head()"
      ],
      "execution_count": null,
      "outputs": [
        {
          "output_type": "execute_result",
          "data": {
            "text/html": [
              "<div>\n",
              "<style scoped>\n",
              "    .dataframe tbody tr th:only-of-type {\n",
              "        vertical-align: middle;\n",
              "    }\n",
              "\n",
              "    .dataframe tbody tr th {\n",
              "        vertical-align: top;\n",
              "    }\n",
              "\n",
              "    .dataframe thead th {\n",
              "        text-align: right;\n",
              "    }\n",
              "</style>\n",
              "<table border=\"1\" class=\"dataframe\">\n",
              "  <thead>\n",
              "    <tr style=\"text-align: right;\">\n",
              "      <th></th>\n",
              "      <th>order_id</th>\n",
              "      <th>voucher_amount</th>\n",
              "      <th>date_time</th>\n",
              "      <th>eta_seconds</th>\n",
              "      <th>food_price</th>\n",
              "      <th>cust_id</th>\n",
              "      <th>rating</th>\n",
              "      <th>delivery_fee</th>\n",
              "      <th>resto_id</th>\n",
              "      <th>status</th>\n",
              "      <th>random_id</th>\n",
              "    </tr>\n",
              "  </thead>\n",
              "  <tbody>\n",
              "    <tr>\n",
              "      <th>0</th>\n",
              "      <td>FOOD-10455</td>\n",
              "      <td>0</td>\n",
              "      <td>2018-08-12T20:35:08.001006</td>\n",
              "      <td>1800</td>\n",
              "      <td>18900</td>\n",
              "      <td>1089034</td>\n",
              "      <td>5.0</td>\n",
              "      <td>4000</td>\n",
              "      <td>742638033</td>\n",
              "      <td>Completed</td>\n",
              "      <td>0.511149</td>\n",
              "    </tr>\n",
              "    <tr>\n",
              "      <th>1</th>\n",
              "      <td>FOOD-10985</td>\n",
              "      <td>0</td>\n",
              "      <td>2018-09-23T17:44:12.243273</td>\n",
              "      <td>2173</td>\n",
              "      <td>149000</td>\n",
              "      <td>180146</td>\n",
              "      <td>5.0</td>\n",
              "      <td>11000</td>\n",
              "      <td>742767245</td>\n",
              "      <td>Completed</td>\n",
              "      <td>0.832936</td>\n",
              "    </tr>\n",
              "    <tr>\n",
              "      <th>2</th>\n",
              "      <td>FOOD-10911</td>\n",
              "      <td>0</td>\n",
              "      <td>2018-09-19T18:08:09.387991</td>\n",
              "      <td>1418</td>\n",
              "      <td>43800</td>\n",
              "      <td>366528</td>\n",
              "      <td>NaN</td>\n",
              "      <td>9000</td>\n",
              "      <td>742618303</td>\n",
              "      <td>Completed</td>\n",
              "      <td>0.828026</td>\n",
              "    </tr>\n",
              "    <tr>\n",
              "      <th>3</th>\n",
              "      <td>FOOD-10932</td>\n",
              "      <td>0</td>\n",
              "      <td>2018-09-21T01:24:35.272499</td>\n",
              "      <td>1903</td>\n",
              "      <td>39900</td>\n",
              "      <td>511038</td>\n",
              "      <td>5.0</td>\n",
              "      <td>14000</td>\n",
              "      <td>742541172</td>\n",
              "      <td>Completed</td>\n",
              "      <td>0.239377</td>\n",
              "    </tr>\n",
              "    <tr>\n",
              "      <th>4</th>\n",
              "      <td>FOOD-10961</td>\n",
              "      <td>0</td>\n",
              "      <td>2018-09-22T17:57:45.523161</td>\n",
              "      <td>1716</td>\n",
              "      <td>77700</td>\n",
              "      <td>1220358</td>\n",
              "      <td>NaN</td>\n",
              "      <td>4000</td>\n",
              "      <td>742604875</td>\n",
              "      <td>Completed</td>\n",
              "      <td>0.995587</td>\n",
              "    </tr>\n",
              "  </tbody>\n",
              "</table>\n",
              "</div>"
            ],
            "text/plain": [
              "     order_id  voucher_amount  ...     status  random_id\n",
              "0  FOOD-10455               0  ...  Completed   0.511149\n",
              "1  FOOD-10985               0  ...  Completed   0.832936\n",
              "2  FOOD-10911               0  ...  Completed   0.828026\n",
              "3  FOOD-10932               0  ...  Completed   0.239377\n",
              "4  FOOD-10961               0  ...  Completed   0.995587\n",
              "\n",
              "[5 rows x 11 columns]"
            ]
          },
          "metadata": {},
          "execution_count": 95
        }
      ]
    },
    {
      "cell_type": "markdown",
      "metadata": {
        "id": "MO4dLyicE74r"
      },
      "source": [
        "## 4. Tambahkan Kolom Total Biaya\n",
        "\n"
      ]
    },
    {
      "cell_type": "code",
      "metadata": {
        "id": "zPjRSwHTY5Gm"
      },
      "source": [
        "df['total_fee']=df['food_price']+df['delivery_fee']-df['voucher_amount']"
      ],
      "execution_count": null,
      "outputs": []
    },
    {
      "cell_type": "code",
      "metadata": {
        "colab": {
          "base_uri": "https://localhost:8080/",
          "height": 309
        },
        "id": "KHgMXEmu_M0_",
        "outputId": "3a3083ce-3d1c-4a24-eac6-3aad6a2d9159"
      },
      "source": [
        "df.head()"
      ],
      "execution_count": null,
      "outputs": [
        {
          "output_type": "execute_result",
          "data": {
            "text/html": [
              "<div>\n",
              "<style scoped>\n",
              "    .dataframe tbody tr th:only-of-type {\n",
              "        vertical-align: middle;\n",
              "    }\n",
              "\n",
              "    .dataframe tbody tr th {\n",
              "        vertical-align: top;\n",
              "    }\n",
              "\n",
              "    .dataframe thead th {\n",
              "        text-align: right;\n",
              "    }\n",
              "</style>\n",
              "<table border=\"1\" class=\"dataframe\">\n",
              "  <thead>\n",
              "    <tr style=\"text-align: right;\">\n",
              "      <th></th>\n",
              "      <th>order_id</th>\n",
              "      <th>voucher_amount</th>\n",
              "      <th>date_time</th>\n",
              "      <th>eta_seconds</th>\n",
              "      <th>food_price</th>\n",
              "      <th>cust_id</th>\n",
              "      <th>rating</th>\n",
              "      <th>delivery_fee</th>\n",
              "      <th>resto_id</th>\n",
              "      <th>status</th>\n",
              "      <th>random_id</th>\n",
              "      <th>total_fee</th>\n",
              "    </tr>\n",
              "  </thead>\n",
              "  <tbody>\n",
              "    <tr>\n",
              "      <th>0</th>\n",
              "      <td>FOOD-10455</td>\n",
              "      <td>0</td>\n",
              "      <td>2018-08-12T20:35:08.001006</td>\n",
              "      <td>1800</td>\n",
              "      <td>18900</td>\n",
              "      <td>1089034</td>\n",
              "      <td>5.0</td>\n",
              "      <td>4000</td>\n",
              "      <td>742638033</td>\n",
              "      <td>Completed</td>\n",
              "      <td>0.511149</td>\n",
              "      <td>22900</td>\n",
              "    </tr>\n",
              "    <tr>\n",
              "      <th>1</th>\n",
              "      <td>FOOD-10985</td>\n",
              "      <td>0</td>\n",
              "      <td>2018-09-23T17:44:12.243273</td>\n",
              "      <td>2173</td>\n",
              "      <td>149000</td>\n",
              "      <td>180146</td>\n",
              "      <td>5.0</td>\n",
              "      <td>11000</td>\n",
              "      <td>742767245</td>\n",
              "      <td>Completed</td>\n",
              "      <td>0.832936</td>\n",
              "      <td>160000</td>\n",
              "    </tr>\n",
              "    <tr>\n",
              "      <th>2</th>\n",
              "      <td>FOOD-10911</td>\n",
              "      <td>0</td>\n",
              "      <td>2018-09-19T18:08:09.387991</td>\n",
              "      <td>1418</td>\n",
              "      <td>43800</td>\n",
              "      <td>366528</td>\n",
              "      <td>NaN</td>\n",
              "      <td>9000</td>\n",
              "      <td>742618303</td>\n",
              "      <td>Completed</td>\n",
              "      <td>0.828026</td>\n",
              "      <td>52800</td>\n",
              "    </tr>\n",
              "    <tr>\n",
              "      <th>3</th>\n",
              "      <td>FOOD-10932</td>\n",
              "      <td>0</td>\n",
              "      <td>2018-09-21T01:24:35.272499</td>\n",
              "      <td>1903</td>\n",
              "      <td>39900</td>\n",
              "      <td>511038</td>\n",
              "      <td>5.0</td>\n",
              "      <td>14000</td>\n",
              "      <td>742541172</td>\n",
              "      <td>Completed</td>\n",
              "      <td>0.239377</td>\n",
              "      <td>53900</td>\n",
              "    </tr>\n",
              "    <tr>\n",
              "      <th>4</th>\n",
              "      <td>FOOD-10961</td>\n",
              "      <td>0</td>\n",
              "      <td>2018-09-22T17:57:45.523161</td>\n",
              "      <td>1716</td>\n",
              "      <td>77700</td>\n",
              "      <td>1220358</td>\n",
              "      <td>NaN</td>\n",
              "      <td>4000</td>\n",
              "      <td>742604875</td>\n",
              "      <td>Completed</td>\n",
              "      <td>0.995587</td>\n",
              "      <td>81700</td>\n",
              "    </tr>\n",
              "  </tbody>\n",
              "</table>\n",
              "</div>"
            ],
            "text/plain": [
              "     order_id  voucher_amount  ... random_id  total_fee\n",
              "0  FOOD-10455               0  ...  0.511149      22900\n",
              "1  FOOD-10985               0  ...  0.832936     160000\n",
              "2  FOOD-10911               0  ...  0.828026      52800\n",
              "3  FOOD-10932               0  ...  0.239377      53900\n",
              "4  FOOD-10961               0  ...  0.995587      81700\n",
              "\n",
              "[5 rows x 12 columns]"
            ]
          },
          "metadata": {},
          "execution_count": 97
        }
      ]
    },
    {
      "cell_type": "code",
      "metadata": {
        "colab": {
          "base_uri": "https://localhost:8080/",
          "height": 204
        },
        "id": "AEDr9c1ufRZF",
        "outputId": "9b80b4ae-2254-44a9-cf48-b8fc8410c66a"
      },
      "source": [
        "df=pd.concat([df['cust_id'],df['total_fee'],df['status']], axis=1)\n",
        "df.columns = ['cust_id','total_fee','status']\n",
        "df.head()"
      ],
      "execution_count": null,
      "outputs": [
        {
          "output_type": "execute_result",
          "data": {
            "text/html": [
              "<div>\n",
              "<style scoped>\n",
              "    .dataframe tbody tr th:only-of-type {\n",
              "        vertical-align: middle;\n",
              "    }\n",
              "\n",
              "    .dataframe tbody tr th {\n",
              "        vertical-align: top;\n",
              "    }\n",
              "\n",
              "    .dataframe thead th {\n",
              "        text-align: right;\n",
              "    }\n",
              "</style>\n",
              "<table border=\"1\" class=\"dataframe\">\n",
              "  <thead>\n",
              "    <tr style=\"text-align: right;\">\n",
              "      <th></th>\n",
              "      <th>cust_id</th>\n",
              "      <th>total_fee</th>\n",
              "      <th>status</th>\n",
              "    </tr>\n",
              "  </thead>\n",
              "  <tbody>\n",
              "    <tr>\n",
              "      <th>0</th>\n",
              "      <td>1089034</td>\n",
              "      <td>22900</td>\n",
              "      <td>Completed</td>\n",
              "    </tr>\n",
              "    <tr>\n",
              "      <th>1</th>\n",
              "      <td>180146</td>\n",
              "      <td>160000</td>\n",
              "      <td>Completed</td>\n",
              "    </tr>\n",
              "    <tr>\n",
              "      <th>2</th>\n",
              "      <td>366528</td>\n",
              "      <td>52800</td>\n",
              "      <td>Completed</td>\n",
              "    </tr>\n",
              "    <tr>\n",
              "      <th>3</th>\n",
              "      <td>511038</td>\n",
              "      <td>53900</td>\n",
              "      <td>Completed</td>\n",
              "    </tr>\n",
              "    <tr>\n",
              "      <th>4</th>\n",
              "      <td>1220358</td>\n",
              "      <td>81700</td>\n",
              "      <td>Completed</td>\n",
              "    </tr>\n",
              "  </tbody>\n",
              "</table>\n",
              "</div>"
            ],
            "text/plain": [
              "   cust_id  total_fee     status\n",
              "0  1089034      22900  Completed\n",
              "1   180146     160000  Completed\n",
              "2   366528      52800  Completed\n",
              "3   511038      53900  Completed\n",
              "4  1220358      81700  Completed"
            ]
          },
          "metadata": {},
          "execution_count": 98
        }
      ]
    },
    {
      "cell_type": "markdown",
      "metadata": {
        "id": "CB8Xi-RnFT54"
      },
      "source": [
        "## 5. Cleaning Data dengan Status Completed"
      ]
    },
    {
      "cell_type": "code",
      "metadata": {
        "colab": {
          "base_uri": "https://localhost:8080/"
        },
        "id": "8vZ53IVYjjES",
        "outputId": "14ad8a91-b59d-4a40-c041-dc3ac2ce784a"
      },
      "source": [
        "df['status'].unique()"
      ],
      "execution_count": null,
      "outputs": [
        {
          "output_type": "execute_result",
          "data": {
            "text/plain": [
              "array(['Completed', 'Cancelled'], dtype=object)"
            ]
          },
          "metadata": {},
          "execution_count": 99
        }
      ]
    },
    {
      "cell_type": "code",
      "metadata": {
        "colab": {
          "base_uri": "https://localhost:8080/",
          "height": 419
        },
        "id": "P4uVJjo7kN0t",
        "outputId": "495de13e-4df4-4c70-ed4c-50a5785846fc"
      },
      "source": [
        "df=df[df.status=='Completed']\n",
        "df.reset_index(drop=True)"
      ],
      "execution_count": null,
      "outputs": [
        {
          "output_type": "execute_result",
          "data": {
            "text/html": [
              "<div>\n",
              "<style scoped>\n",
              "    .dataframe tbody tr th:only-of-type {\n",
              "        vertical-align: middle;\n",
              "    }\n",
              "\n",
              "    .dataframe tbody tr th {\n",
              "        vertical-align: top;\n",
              "    }\n",
              "\n",
              "    .dataframe thead th {\n",
              "        text-align: right;\n",
              "    }\n",
              "</style>\n",
              "<table border=\"1\" class=\"dataframe\">\n",
              "  <thead>\n",
              "    <tr style=\"text-align: right;\">\n",
              "      <th></th>\n",
              "      <th>cust_id</th>\n",
              "      <th>total_fee</th>\n",
              "      <th>status</th>\n",
              "    </tr>\n",
              "  </thead>\n",
              "  <tbody>\n",
              "    <tr>\n",
              "      <th>0</th>\n",
              "      <td>1089034</td>\n",
              "      <td>22900</td>\n",
              "      <td>Completed</td>\n",
              "    </tr>\n",
              "    <tr>\n",
              "      <th>1</th>\n",
              "      <td>180146</td>\n",
              "      <td>160000</td>\n",
              "      <td>Completed</td>\n",
              "    </tr>\n",
              "    <tr>\n",
              "      <th>2</th>\n",
              "      <td>366528</td>\n",
              "      <td>52800</td>\n",
              "      <td>Completed</td>\n",
              "    </tr>\n",
              "    <tr>\n",
              "      <th>3</th>\n",
              "      <td>511038</td>\n",
              "      <td>53900</td>\n",
              "      <td>Completed</td>\n",
              "    </tr>\n",
              "    <tr>\n",
              "      <th>4</th>\n",
              "      <td>1220358</td>\n",
              "      <td>81700</td>\n",
              "      <td>Completed</td>\n",
              "    </tr>\n",
              "    <tr>\n",
              "      <th>...</th>\n",
              "      <td>...</td>\n",
              "      <td>...</td>\n",
              "      <td>...</td>\n",
              "    </tr>\n",
              "    <tr>\n",
              "      <th>876</th>\n",
              "      <td>1296335</td>\n",
              "      <td>107200</td>\n",
              "      <td>Completed</td>\n",
              "    </tr>\n",
              "    <tr>\n",
              "      <th>877</th>\n",
              "      <td>1135466</td>\n",
              "      <td>147700</td>\n",
              "      <td>Completed</td>\n",
              "    </tr>\n",
              "    <tr>\n",
              "      <th>878</th>\n",
              "      <td>1383625</td>\n",
              "      <td>192200</td>\n",
              "      <td>Completed</td>\n",
              "    </tr>\n",
              "    <tr>\n",
              "      <th>879</th>\n",
              "      <td>1094787</td>\n",
              "      <td>58300</td>\n",
              "      <td>Completed</td>\n",
              "    </tr>\n",
              "    <tr>\n",
              "      <th>880</th>\n",
              "      <td>1010922</td>\n",
              "      <td>52000</td>\n",
              "      <td>Completed</td>\n",
              "    </tr>\n",
              "  </tbody>\n",
              "</table>\n",
              "<p>881 rows × 3 columns</p>\n",
              "</div>"
            ],
            "text/plain": [
              "     cust_id  total_fee     status\n",
              "0    1089034      22900  Completed\n",
              "1     180146     160000  Completed\n",
              "2     366528      52800  Completed\n",
              "3     511038      53900  Completed\n",
              "4    1220358      81700  Completed\n",
              "..       ...        ...        ...\n",
              "876  1296335     107200  Completed\n",
              "877  1135466     147700  Completed\n",
              "878  1383625     192200  Completed\n",
              "879  1094787      58300  Completed\n",
              "880  1010922      52000  Completed\n",
              "\n",
              "[881 rows x 3 columns]"
            ]
          },
          "metadata": {},
          "execution_count": 100
        }
      ]
    },
    {
      "cell_type": "markdown",
      "metadata": {
        "id": "wib986uqGXg3"
      },
      "source": [
        "## 6. Tambahkan Kolom Total Order"
      ]
    },
    {
      "cell_type": "code",
      "metadata": {
        "id": "PX728QhLmaKv",
        "colab": {
          "base_uri": "https://localhost:8080/",
          "height": 419
        },
        "outputId": "95a72038-480b-4fe0-c5cf-a94acd0b34da"
      },
      "source": [
        "df1=df.groupby(['cust_id'])\n",
        "df1=df1[['total_fee']].sum()\n",
        "df1['total_order']=df.groupby(['cust_id']).size()\n",
        "df1.reset_index()"
      ],
      "execution_count": null,
      "outputs": [
        {
          "output_type": "execute_result",
          "data": {
            "text/html": [
              "<div>\n",
              "<style scoped>\n",
              "    .dataframe tbody tr th:only-of-type {\n",
              "        vertical-align: middle;\n",
              "    }\n",
              "\n",
              "    .dataframe tbody tr th {\n",
              "        vertical-align: top;\n",
              "    }\n",
              "\n",
              "    .dataframe thead th {\n",
              "        text-align: right;\n",
              "    }\n",
              "</style>\n",
              "<table border=\"1\" class=\"dataframe\">\n",
              "  <thead>\n",
              "    <tr style=\"text-align: right;\">\n",
              "      <th></th>\n",
              "      <th>cust_id</th>\n",
              "      <th>total_fee</th>\n",
              "      <th>total_order</th>\n",
              "    </tr>\n",
              "  </thead>\n",
              "  <tbody>\n",
              "    <tr>\n",
              "      <th>0</th>\n",
              "      <td>22895</td>\n",
              "      <td>34500</td>\n",
              "      <td>1</td>\n",
              "    </tr>\n",
              "    <tr>\n",
              "      <th>1</th>\n",
              "      <td>59565</td>\n",
              "      <td>430600</td>\n",
              "      <td>3</td>\n",
              "    </tr>\n",
              "    <tr>\n",
              "      <th>2</th>\n",
              "      <td>62551</td>\n",
              "      <td>224800</td>\n",
              "      <td>3</td>\n",
              "    </tr>\n",
              "    <tr>\n",
              "      <th>3</th>\n",
              "      <td>70701</td>\n",
              "      <td>430700</td>\n",
              "      <td>3</td>\n",
              "    </tr>\n",
              "    <tr>\n",
              "      <th>4</th>\n",
              "      <td>82690</td>\n",
              "      <td>156700</td>\n",
              "      <td>5</td>\n",
              "    </tr>\n",
              "    <tr>\n",
              "      <th>...</th>\n",
              "      <td>...</td>\n",
              "      <td>...</td>\n",
              "      <td>...</td>\n",
              "    </tr>\n",
              "    <tr>\n",
              "      <th>131</th>\n",
              "      <td>1510407</td>\n",
              "      <td>67000</td>\n",
              "      <td>1</td>\n",
              "    </tr>\n",
              "    <tr>\n",
              "      <th>132</th>\n",
              "      <td>1514562</td>\n",
              "      <td>1005900</td>\n",
              "      <td>11</td>\n",
              "    </tr>\n",
              "    <tr>\n",
              "      <th>133</th>\n",
              "      <td>1542763</td>\n",
              "      <td>252700</td>\n",
              "      <td>4</td>\n",
              "    </tr>\n",
              "    <tr>\n",
              "      <th>134</th>\n",
              "      <td>1544551</td>\n",
              "      <td>490900</td>\n",
              "      <td>4</td>\n",
              "    </tr>\n",
              "    <tr>\n",
              "      <th>135</th>\n",
              "      <td>1548571</td>\n",
              "      <td>704500</td>\n",
              "      <td>6</td>\n",
              "    </tr>\n",
              "  </tbody>\n",
              "</table>\n",
              "<p>136 rows × 3 columns</p>\n",
              "</div>"
            ],
            "text/plain": [
              "     cust_id  total_fee  total_order\n",
              "0      22895      34500            1\n",
              "1      59565     430600            3\n",
              "2      62551     224800            3\n",
              "3      70701     430700            3\n",
              "4      82690     156700            5\n",
              "..       ...        ...          ...\n",
              "131  1510407      67000            1\n",
              "132  1514562    1005900           11\n",
              "133  1542763     252700            4\n",
              "134  1544551     490900            4\n",
              "135  1548571     704500            6\n",
              "\n",
              "[136 rows x 3 columns]"
            ]
          },
          "metadata": {},
          "execution_count": 101
        }
      ]
    },
    {
      "cell_type": "markdown",
      "metadata": {
        "id": "DihPZ3xMGkZE"
      },
      "source": [
        "## 7. Urutkan Kolom Total Biaya dari yang terkecil"
      ]
    },
    {
      "cell_type": "code",
      "metadata": {
        "id": "7ZswxjkcNqTc"
      },
      "source": [
        "A=[]\n",
        "for i in range (1,137):\n",
        "  A.append(i)\n",
        "  i+=1"
      ],
      "execution_count": null,
      "outputs": []
    },
    {
      "cell_type": "code",
      "metadata": {
        "colab": {
          "base_uri": "https://localhost:8080/",
          "height": 419
        },
        "id": "mk2ZljQ7momz",
        "outputId": "b0d29206-48d2-4c0b-f0a4-bb0622c3cae8"
      },
      "source": [
        "final_df1=df1.sort_values(by='total_fee',ascending=True)\n",
        "final_df1['Customer_ID']=A\n",
        "final_df1.reset_index()"
      ],
      "execution_count": null,
      "outputs": [
        {
          "output_type": "execute_result",
          "data": {
            "text/html": [
              "<div>\n",
              "<style scoped>\n",
              "    .dataframe tbody tr th:only-of-type {\n",
              "        vertical-align: middle;\n",
              "    }\n",
              "\n",
              "    .dataframe tbody tr th {\n",
              "        vertical-align: top;\n",
              "    }\n",
              "\n",
              "    .dataframe thead th {\n",
              "        text-align: right;\n",
              "    }\n",
              "</style>\n",
              "<table border=\"1\" class=\"dataframe\">\n",
              "  <thead>\n",
              "    <tr style=\"text-align: right;\">\n",
              "      <th></th>\n",
              "      <th>cust_id</th>\n",
              "      <th>total_fee</th>\n",
              "      <th>total_order</th>\n",
              "      <th>Customer_ID</th>\n",
              "    </tr>\n",
              "  </thead>\n",
              "  <tbody>\n",
              "    <tr>\n",
              "      <th>0</th>\n",
              "      <td>783781</td>\n",
              "      <td>17800</td>\n",
              "      <td>1</td>\n",
              "      <td>1</td>\n",
              "    </tr>\n",
              "    <tr>\n",
              "      <th>1</th>\n",
              "      <td>1081470</td>\n",
              "      <td>25100</td>\n",
              "      <td>1</td>\n",
              "      <td>2</td>\n",
              "    </tr>\n",
              "    <tr>\n",
              "      <th>2</th>\n",
              "      <td>1470304</td>\n",
              "      <td>31800</td>\n",
              "      <td>1</td>\n",
              "      <td>3</td>\n",
              "    </tr>\n",
              "    <tr>\n",
              "      <th>3</th>\n",
              "      <td>22895</td>\n",
              "      <td>34500</td>\n",
              "      <td>1</td>\n",
              "      <td>4</td>\n",
              "    </tr>\n",
              "    <tr>\n",
              "      <th>4</th>\n",
              "      <td>185166</td>\n",
              "      <td>60100</td>\n",
              "      <td>1</td>\n",
              "      <td>5</td>\n",
              "    </tr>\n",
              "    <tr>\n",
              "      <th>...</th>\n",
              "      <td>...</td>\n",
              "      <td>...</td>\n",
              "      <td>...</td>\n",
              "      <td>...</td>\n",
              "    </tr>\n",
              "    <tr>\n",
              "      <th>131</th>\n",
              "      <td>366721</td>\n",
              "      <td>2201000</td>\n",
              "      <td>25</td>\n",
              "      <td>132</td>\n",
              "    </tr>\n",
              "    <tr>\n",
              "      <th>132</th>\n",
              "      <td>366528</td>\n",
              "      <td>2280500</td>\n",
              "      <td>24</td>\n",
              "      <td>133</td>\n",
              "    </tr>\n",
              "    <tr>\n",
              "      <th>133</th>\n",
              "      <td>1379631</td>\n",
              "      <td>2424500</td>\n",
              "      <td>12</td>\n",
              "      <td>134</td>\n",
              "    </tr>\n",
              "    <tr>\n",
              "      <th>134</th>\n",
              "      <td>1383625</td>\n",
              "      <td>2532500</td>\n",
              "      <td>19</td>\n",
              "      <td>135</td>\n",
              "    </tr>\n",
              "    <tr>\n",
              "      <th>135</th>\n",
              "      <td>361927</td>\n",
              "      <td>2862100</td>\n",
              "      <td>17</td>\n",
              "      <td>136</td>\n",
              "    </tr>\n",
              "  </tbody>\n",
              "</table>\n",
              "<p>136 rows × 4 columns</p>\n",
              "</div>"
            ],
            "text/plain": [
              "     cust_id  total_fee  total_order  Customer_ID\n",
              "0     783781      17800            1            1\n",
              "1    1081470      25100            1            2\n",
              "2    1470304      31800            1            3\n",
              "3      22895      34500            1            4\n",
              "4     185166      60100            1            5\n",
              "..       ...        ...          ...          ...\n",
              "131   366721    2201000           25          132\n",
              "132   366528    2280500           24          133\n",
              "133  1379631    2424500           12          134\n",
              "134  1383625    2532500           19          135\n",
              "135   361927    2862100           17          136\n",
              "\n",
              "[136 rows x 4 columns]"
            ]
          },
          "metadata": {},
          "execution_count": 103
        }
      ]
    },
    {
      "cell_type": "markdown",
      "metadata": {
        "id": "gZZUi3KnGvuV"
      },
      "source": [
        "## 8. Visualisasi Data"
      ]
    },
    {
      "cell_type": "code",
      "metadata": {
        "colab": {
          "base_uri": "https://localhost:8080/",
          "height": 428
        },
        "id": "XXokdc2snTwg",
        "outputId": "1dcf5eaa-8df9-4793-d8dc-b34f052aac13"
      },
      "source": [
        "%matplotlib inline\n",
        "\n",
        "plt.style.use('ggplot')\n",
        "\n",
        "X = final_df1['Customer_ID']\n",
        "Y = final_df1['total_fee']\n",
        "Y1 = final_df1['total_order']\n",
        "fig, ax = plt.subplots(ncols=1,nrows=2,figsize=(16,6))\n",
        "\n",
        "ax[0].plot(X, Y, color='lightcoral')\n",
        "ax[0].set_title('Total Biaya Order Makanan per Customer')\n",
        "ax[0].set_ylabel('Total Biaya (Jutaan Rupiah)')\n",
        "\n",
        "ax[1].plot(X, Y1, color='blue')\n",
        "ax[1].set_xlabel('Customer ID')\n",
        "ax[1].set_ylabel('Total Order')\n",
        "\n",
        "plt.show()"
      ],
      "execution_count": null,
      "outputs": [
        {
          "output_type": "display_data",
          "data": {
            "image/png": "[encoded data removed]",
            "text/plain": [
              "<Figure size 1152x432 with 2 Axes>"
            ]
          },
          "metadata": {}
        }
      ]
    },
    {
      "cell_type": "markdown",
      "metadata": {
        "id": "XxVNHuUJHKnP"
      },
      "source": [
        "**Insight dari grafik:**\n",
        "*   Banyaknya biaya yang telah dikeluarkan tiap customer untuk order makanan berbanding lurus dengan banyaknya order makanan tiap customer\n",
        "*   Customer 783781 merupakan customer yang terkecil dalam mengeluarkan biaya dengan 1 kali order makanan\n",
        "*   Customer 361927 merupakan customer yang terbesar dalam mengeluarkan biaya dengan 17 kali order makanan\n",
        "\n",
        "\n",
        "\n",
        "\n"
      ]
    },
    {
      "cell_type": "code",
      "metadata": {
        "colab": {
          "base_uri": "https://localhost:8080/",
          "height": 173
        },
        "id": "4fQBqmseg_Pz",
        "outputId": "06deefcf-3e91-422b-b4a5-733ede3c717a"
      },
      "source": [
        "final_df2=final_df1[final_df1['total_order']>20]\n",
        "final_df2.reset_index()"
      ],
      "execution_count": null,
      "outputs": [
        {
          "output_type": "execute_result",
          "data": {
            "text/html": [
              "<div>\n",
              "<style scoped>\n",
              "    .dataframe tbody tr th:only-of-type {\n",
              "        vertical-align: middle;\n",
              "    }\n",
              "\n",
              "    .dataframe tbody tr th {\n",
              "        vertical-align: top;\n",
              "    }\n",
              "\n",
              "    .dataframe thead th {\n",
              "        text-align: right;\n",
              "    }\n",
              "</style>\n",
              "<table border=\"1\" class=\"dataframe\">\n",
              "  <thead>\n",
              "    <tr style=\"text-align: right;\">\n",
              "      <th></th>\n",
              "      <th>cust_id</th>\n",
              "      <th>total_fee</th>\n",
              "      <th>total_order</th>\n",
              "      <th>Customer_ID</th>\n",
              "    </tr>\n",
              "  </thead>\n",
              "  <tbody>\n",
              "    <tr>\n",
              "      <th>0</th>\n",
              "      <td>316834</td>\n",
              "      <td>1198500</td>\n",
              "      <td>25</td>\n",
              "      <td>122</td>\n",
              "    </tr>\n",
              "    <tr>\n",
              "      <th>1</th>\n",
              "      <td>1094787</td>\n",
              "      <td>1569900</td>\n",
              "      <td>26</td>\n",
              "      <td>128</td>\n",
              "    </tr>\n",
              "    <tr>\n",
              "      <th>2</th>\n",
              "      <td>366721</td>\n",
              "      <td>2201000</td>\n",
              "      <td>25</td>\n",
              "      <td>132</td>\n",
              "    </tr>\n",
              "    <tr>\n",
              "      <th>3</th>\n",
              "      <td>366528</td>\n",
              "      <td>2280500</td>\n",
              "      <td>24</td>\n",
              "      <td>133</td>\n",
              "    </tr>\n",
              "  </tbody>\n",
              "</table>\n",
              "</div>"
            ],
            "text/plain": [
              "   cust_id  total_fee  total_order  Customer_ID\n",
              "0   316834    1198500           25          122\n",
              "1  1094787    1569900           26          128\n",
              "2   366721    2201000           25          132\n",
              "3   366528    2280500           24          133"
            ]
          },
          "metadata": {},
          "execution_count": 118
        }
      ]
    },
    {
      "cell_type": "code",
      "metadata": {
        "colab": {
          "base_uri": "https://localhost:8080/",
          "height": 470
        },
        "id": "KLiKWARLPzw9",
        "outputId": "e688756a-e891-4040-fa74-173c47073b36"
      },
      "source": [
        "plt.figure(figsize=(16,7))\n",
        "\n",
        "cust_id=['316834','1094787','366721','366528']\n",
        "plt.bar(cust_id, final_df2['total_fee'], color='lightcoral')\n",
        "\n",
        "plt.title('Total Orderan Makanan lebih dari 20', size=24)\n",
        "plt.xlabel('Customer ID', size=14)\n",
        "plt.ylabel('Total Biaya (Jutaan Rupiah)', size=14)\n",
        "plt.xticks(size=12)\n",
        "plt.yticks(size=12)\n",
        "\n",
        "plt.show()"
      ],
      "execution_count": null,
      "outputs": [
        {
          "output_type": "display_data",
          "data": {
            "image/png": "[encoded data removed]",
            "text/plain": [
              "<Figure size 1152x504 with 1 Axes>"
            ]
          },
          "metadata": {}
        }
      ]
    },
    {
      "cell_type": "markdown",
      "metadata": {
        "id": "4Oe-OhL8M5RD"
      },
      "source": [
        "**Insight dari grafik:**\n",
        "Terdapat 4 customer yang telah melakukan order makanan lebih dari 20 kali, yaitu:\n",
        "*   Customer 316834\n",
        "*   Customer 1094787\n",
        "*   Customer 366721\n",
        "*   Customer 366528\n",
        "\n",
        "\n",
        "\n"
      ]
    }
  ]
}